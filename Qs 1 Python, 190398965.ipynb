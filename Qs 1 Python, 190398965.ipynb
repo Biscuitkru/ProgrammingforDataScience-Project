{
 "cells": [
  {
   "cell_type": "markdown",
   "id": "8688c8e0",
   "metadata": {},
   "source": [
    "### Q1. When is the best time of day, day of the week, and time of year to fly to minimize delays?"
   ]
  },
  {
   "cell_type": "code",
   "execution_count": 1,
   "id": "efc22a0a",
   "metadata": {},
   "outputs": [],
   "source": [
    "import sqlite3\n",
    "import pandas as pd"
   ]
  },
  {
   "cell_type": "code",
   "execution_count": 2,
   "id": "1556254d",
   "metadata": {},
   "outputs": [],
   "source": [
    "conn = sqlite3.connect('airline2_python.db')"
   ]
  },
  {
   "cell_type": "code",
   "execution_count": 3,
   "id": "f60d80bc",
   "metadata": {},
   "outputs": [],
   "source": [
    "airports = pd.read_csv(\"airports.csv\")\n",
    "carriers = pd.read_csv(\"carriers.csv\")\n",
    "planes = pd.read_csv(\"plane-data.csv\")\n",
    "\n",
    "airports.to_sql('airports', con = conn, index = False)\n",
    "carriers.to_sql('carriers', con = conn, index = False)\n",
    "planes.to_sql('planes', con = conn, index = False)"
   ]
  },
  {
   "cell_type": "code",
   "execution_count": 4,
   "id": "403498f0",
   "metadata": {},
   "outputs": [],
   "source": [
    "c = conn.cursor()"
   ]
  },
  {
   "cell_type": "code",
   "execution_count": 5,
   "id": "32f5df1f",
   "metadata": {},
   "outputs": [],
   "source": [
    "c.execute('''\n",
    "CREATE TABLE ontime (\n",
    "  Year int,\n",
    "  Month int,\n",
    "  DayofMonth int,\n",
    "  DayOfWeek int,\n",
    "  DepTime  int,\n",
    "  CRSDepTime int,\n",
    "  ArrTime int,\n",
    "  CRSArrTime int,\n",
    "  UniqueCarrier varchar(5),\n",
    "  FlightNum int,\n",
    "  TailNum varchar(8),\n",
    "  ActualElapsedTime int,\n",
    "  CRSElapsedTime int,\n",
    "  AirTime int,\n",
    "  ArrDelay int,\n",
    "  DepDelay int,\n",
    "  Origin varchar(3),\n",
    "  Dest varchar(3),\n",
    "  Distance int,\n",
    "  TaxiIn int,\n",
    "  TaxiOut int,\n",
    "  Cancelled int,\n",
    "  CancellationCode varchar(1),\n",
    "  Diverted varchar(1),\n",
    "  CarrierDelay int,\n",
    "  WeatherDelay int,\n",
    "  NASDelay int,\n",
    "  SecurityDelay int,\n",
    "  LateAircraftDelay int\n",
    ")\n",
    "''')\n",
    "\n",
    "conn.commit()"
   ]
  },
  {
   "cell_type": "code",
   "execution_count": 6,
   "id": "aaf308aa",
   "metadata": {},
   "outputs": [
    {
     "name": "stdout",
     "output_type": "stream",
     "text": [
      "Processing:  2006\n",
      "Processing:  2007\n",
      "Processing:  2008\n"
     ]
    }
   ],
   "source": [
    "for year in range(2006, 2009):\n",
    "    print('Processing: ', year)\n",
    "    ontime = pd.read_csv(str(year)+\".csv\")    \n",
    "    ontime.to_sql('ontime', con = conn, if_exists = 'append', index = False)\n",
    "\n",
    "conn.commit()"
   ]
  },
  {
   "cell_type": "code",
   "execution_count": 7,
   "id": "fe9d07ee",
   "metadata": {},
   "outputs": [
    {
     "data": {
      "text/plain": [
       "[('airports',), ('carriers',), ('planes',), ('ontime',)]"
      ]
     },
     "execution_count": 7,
     "metadata": {},
     "output_type": "execute_result"
    }
   ],
   "source": [
    "c.execute('''\n",
    "SELECT name\n",
    "FROM sqlite_master\n",
    "WHERE type = 'table'\n",
    "''').fetchall()"
   ]
  },
  {
   "cell_type": "code",
   "execution_count": 8,
   "id": "7b8a3d86",
   "metadata": {},
   "outputs": [
    {
     "name": "stdout",
     "output_type": "stream",
     "text": [
      "Month 9 ,September, is the best month to travel where the average delay experienced is the lowest\n"
     ]
    }
   ],
   "source": [
    "## Average departure delay based on month of the year to go\n",
    "\n",
    "c.execute('''\n",
    "SELECT Month AS month, AVG(ontime.DepDelay) AS avg_DepDelay, AVG(ontime.ArrDelay) AS avg_ArrDelay\n",
    "FROM ontime \n",
    "GROUP BY month\n",
    "ORDER BY avg_DepDelay\n",
    "''')\n",
    "\n",
    "AvgDelayMonth = c.fetchall()\n",
    "print(\"Month\",AvgDelayMonth[0][0],\",September, is the best month to travel where the average delay experienced is the lowest\")"
   ]
  },
  {
   "cell_type": "code",
   "execution_count": 9,
   "id": "e994a7d9",
   "metadata": {},
   "outputs": [
    {
     "data": {
      "text/html": [
       "<div>\n",
       "<style scoped>\n",
       "    .dataframe tbody tr th:only-of-type {\n",
       "        vertical-align: middle;\n",
       "    }\n",
       "\n",
       "    .dataframe tbody tr th {\n",
       "        vertical-align: top;\n",
       "    }\n",
       "\n",
       "    .dataframe thead th {\n",
       "        text-align: right;\n",
       "    }\n",
       "</style>\n",
       "<table border=\"1\" class=\"dataframe\">\n",
       "  <thead>\n",
       "    <tr style=\"text-align: right;\">\n",
       "      <th></th>\n",
       "      <th>Month</th>\n",
       "      <th>Avg_DepDelay</th>\n",
       "      <th>Avg_ArrDelay</th>\n",
       "      <th>AvgDelay</th>\n",
       "    </tr>\n",
       "  </thead>\n",
       "  <tbody>\n",
       "    <tr>\n",
       "      <th>0</th>\n",
       "      <td>9</td>\n",
       "      <td>7.438083</td>\n",
       "      <td>6.034441</td>\n",
       "      <td>13.472524</td>\n",
       "    </tr>\n",
       "    <tr>\n",
       "      <th>1</th>\n",
       "      <td>11</td>\n",
       "      <td>8.188426</td>\n",
       "      <td>6.002432</td>\n",
       "      <td>14.190858</td>\n",
       "    </tr>\n",
       "    <tr>\n",
       "      <th>2</th>\n",
       "      <td>5</td>\n",
       "      <td>8.432513</td>\n",
       "      <td>6.964305</td>\n",
       "      <td>15.396818</td>\n",
       "    </tr>\n",
       "    <tr>\n",
       "      <th>3</th>\n",
       "      <td>4</td>\n",
       "      <td>8.838650</td>\n",
       "      <td>7.264470</td>\n",
       "      <td>16.103120</td>\n",
       "    </tr>\n",
       "    <tr>\n",
       "      <th>4</th>\n",
       "      <td>10</td>\n",
       "      <td>9.285199</td>\n",
       "      <td>8.559212</td>\n",
       "      <td>17.844411</td>\n",
       "    </tr>\n",
       "    <tr>\n",
       "      <th>5</th>\n",
       "      <td>1</td>\n",
       "      <td>9.968299</td>\n",
       "      <td>8.360868</td>\n",
       "      <td>18.329167</td>\n",
       "    </tr>\n",
       "    <tr>\n",
       "      <th>6</th>\n",
       "      <td>3</td>\n",
       "      <td>11.369148</td>\n",
       "      <td>9.740652</td>\n",
       "      <td>21.109800</td>\n",
       "    </tr>\n",
       "    <tr>\n",
       "      <th>7</th>\n",
       "      <td>8</td>\n",
       "      <td>11.757647</td>\n",
       "      <td>10.662703</td>\n",
       "      <td>22.420351</td>\n",
       "    </tr>\n",
       "    <tr>\n",
       "      <th>8</th>\n",
       "      <td>2</td>\n",
       "      <td>12.337426</td>\n",
       "      <td>11.377763</td>\n",
       "      <td>23.715189</td>\n",
       "    </tr>\n",
       "    <tr>\n",
       "      <th>9</th>\n",
       "      <td>7</td>\n",
       "      <td>13.773708</td>\n",
       "      <td>12.736940</td>\n",
       "      <td>26.510648</td>\n",
       "    </tr>\n",
       "    <tr>\n",
       "      <th>10</th>\n",
       "      <td>6</td>\n",
       "      <td>14.606732</td>\n",
       "      <td>14.153010</td>\n",
       "      <td>28.759742</td>\n",
       "    </tr>\n",
       "    <tr>\n",
       "      <th>11</th>\n",
       "      <td>12</td>\n",
       "      <td>14.686012</td>\n",
       "      <td>13.709167</td>\n",
       "      <td>28.395179</td>\n",
       "    </tr>\n",
       "  </tbody>\n",
       "</table>\n",
       "</div>"
      ],
      "text/plain": [
       "    Month  Avg_DepDelay  Avg_ArrDelay   AvgDelay\n",
       "0       9      7.438083      6.034441  13.472524\n",
       "1      11      8.188426      6.002432  14.190858\n",
       "2       5      8.432513      6.964305  15.396818\n",
       "3       4      8.838650      7.264470  16.103120\n",
       "4      10      9.285199      8.559212  17.844411\n",
       "5       1      9.968299      8.360868  18.329167\n",
       "6       3     11.369148      9.740652  21.109800\n",
       "7       8     11.757647     10.662703  22.420351\n",
       "8       2     12.337426     11.377763  23.715189\n",
       "9       7     13.773708     12.736940  26.510648\n",
       "10      6     14.606732     14.153010  28.759742\n",
       "11     12     14.686012     13.709167  28.395179"
      ]
     },
     "execution_count": 9,
     "metadata": {},
     "output_type": "execute_result"
    }
   ],
   "source": [
    "AvgDelayMonth = pd.DataFrame(AvgDelayMonth)\n",
    "AvgDelayMonth.columns = ['Month','Avg_DepDelay','Avg_ArrDelay']\n",
    "AvgDelayMonth['AvgDelay'] = AvgDelayMonth['Avg_DepDelay'] + AvgDelayMonth['Avg_ArrDelay']\n",
    "AvgDelayMonth"
   ]
  },
  {
   "cell_type": "code",
   "execution_count": 10,
   "id": "afe55eb2",
   "metadata": {
    "scrolled": true
   },
   "outputs": [
    {
     "data": {
      "image/png": "[encoded data removed]",
      "text/plain": [
       "<Figure size 432x288 with 1 Axes>"
      ]
     },
     "metadata": {
      "needs_background": "light"
     },
     "output_type": "display_data"
    }
   ],
   "source": [
    "import matplotlib.pyplot as plt\n",
    "import seaborn as sns\n",
    "import numpy as np\n",
    "\n",
    "ax = AvgDelayMonth.plot(kind='bar', x = 'Month', y= 'AvgDelay',\n",
    "                    title = 'Average Delay for Each Month', \n",
    "                    ylabel = \"Average Delay\", xlabel = \"Month\",\n",
    "                    alpha = 0.6, width = 0.5)\n",
    "    \n",
    "for bar in ax.patches:\n",
    "    width = bar.get_width()\n",
    "    height = bar.get_height()\n",
    "    x, y = bar.get_xy() \n",
    "    ax.text(x = x+width/2, \n",
    "            y = y+height, \n",
    "            s = int(height), \n",
    "            ha='center', va='center')\n",
    "    \n",
    "plt.show()\n"
   ]
  },
  {
   "cell_type": "code",
   "execution_count": 17,
   "id": "2ce6fc96",
   "metadata": {},
   "outputs": [
    {
     "name": "stdout",
     "output_type": "stream",
     "text": [
      "Day 6 , Saturday, of each week during September offers the lowest Delays where the best time for Departure would be around 1112\n"
     ]
    }
   ],
   "source": [
    "## For where Month = 9, The best day of the week and what time of the day\n",
    "\n",
    "c.execute('''\n",
    "SELECT Month AS month, DayOfWeek AS Day, AVG(DepDelay) AS avg_DepDelay, AVG(ArrDelay) AS avg_ArrDelay, DepTime AS DepTime\n",
    "FROM ontime WHERE ontime.Month = 9\n",
    "GROUP BY DayOfWeek\n",
    "ORDER BY avg_DepDelay\n",
    "''')\n",
    "\n",
    "x = c.fetchall()\n",
    "print(\"Day\", x[1][1],\", Saturday, of each week during September offers the lowest Delays where the best time for Departure would be around\",x[1][4])"
   ]
  },
  {
   "cell_type": "code",
   "execution_count": 21,
   "id": "53aea667",
   "metadata": {},
   "outputs": [
    {
     "data": {
      "text/html": [
       "<div>\n",
       "<style scoped>\n",
       "    .dataframe tbody tr th:only-of-type {\n",
       "        vertical-align: middle;\n",
       "    }\n",
       "\n",
       "    .dataframe tbody tr th {\n",
       "        vertical-align: top;\n",
       "    }\n",
       "\n",
       "    .dataframe thead th {\n",
       "        text-align: right;\n",
       "    }\n",
       "</style>\n",
       "<table border=\"1\" class=\"dataframe\">\n",
       "  <thead>\n",
       "    <tr style=\"text-align: right;\">\n",
       "      <th></th>\n",
       "      <th>Month</th>\n",
       "      <th>Day</th>\n",
       "      <th>Avg_DepDelay</th>\n",
       "      <th>Avg_ArrDelay</th>\n",
       "      <th>DepTime</th>\n",
       "      <th>AvgDelay</th>\n",
       "    </tr>\n",
       "  </thead>\n",
       "  <tbody>\n",
       "    <tr>\n",
       "      <th>0</th>\n",
       "      <td>9</td>\n",
       "      <td>3</td>\n",
       "      <td>4.729911</td>\n",
       "      <td>3.209542</td>\n",
       "      <td>1941</td>\n",
       "      <td>7.939453</td>\n",
       "    </tr>\n",
       "    <tr>\n",
       "      <th>1</th>\n",
       "      <td>9</td>\n",
       "      <td>6</td>\n",
       "      <td>5.543865</td>\n",
       "      <td>2.336732</td>\n",
       "      <td>1112</td>\n",
       "      <td>7.880597</td>\n",
       "    </tr>\n",
       "    <tr>\n",
       "      <th>2</th>\n",
       "      <td>9</td>\n",
       "      <td>2</td>\n",
       "      <td>6.580285</td>\n",
       "      <td>5.412226</td>\n",
       "      <td>2012</td>\n",
       "      <td>11.992511</td>\n",
       "    </tr>\n",
       "    <tr>\n",
       "      <th>3</th>\n",
       "      <td>9</td>\n",
       "      <td>4</td>\n",
       "      <td>7.034385</td>\n",
       "      <td>6.969375</td>\n",
       "      <td>1932</td>\n",
       "      <td>14.003760</td>\n",
       "    </tr>\n",
       "    <tr>\n",
       "      <th>4</th>\n",
       "      <td>9</td>\n",
       "      <td>7</td>\n",
       "      <td>8.213023</td>\n",
       "      <td>6.113118</td>\n",
       "      <td>830</td>\n",
       "      <td>14.326142</td>\n",
       "    </tr>\n",
       "    <tr>\n",
       "      <th>5</th>\n",
       "      <td>9</td>\n",
       "      <td>1</td>\n",
       "      <td>8.372831</td>\n",
       "      <td>6.576143</td>\n",
       "      <td>1927</td>\n",
       "      <td>14.948974</td>\n",
       "    </tr>\n",
       "    <tr>\n",
       "      <th>6</th>\n",
       "      <td>9</td>\n",
       "      <td>5</td>\n",
       "      <td>11.084631</td>\n",
       "      <td>11.027154</td>\n",
       "      <td>1939</td>\n",
       "      <td>22.111785</td>\n",
       "    </tr>\n",
       "  </tbody>\n",
       "</table>\n",
       "</div>"
      ],
      "text/plain": [
       "   Month  Day  Avg_DepDelay  Avg_ArrDelay  DepTime   AvgDelay\n",
       "0      9    3      4.729911      3.209542     1941   7.939453\n",
       "1      9    6      5.543865      2.336732     1112   7.880597\n",
       "2      9    2      6.580285      5.412226     2012  11.992511\n",
       "3      9    4      7.034385      6.969375     1932  14.003760\n",
       "4      9    7      8.213023      6.113118      830  14.326142\n",
       "5      9    1      8.372831      6.576143     1927  14.948974\n",
       "6      9    5     11.084631     11.027154     1939  22.111785"
      ]
     },
     "execution_count": 21,
     "metadata": {},
     "output_type": "execute_result"
    }
   ],
   "source": [
    "AvgDelayWeek = pd.DataFrame(x)\n",
    "AvgDelayWeek.columns = ['Month','Day','Avg_DepDelay','Avg_ArrDelay','DepTime']\n",
    "AvgDelayWeek['AvgDelay'] = AvgDelayWeek['Avg_DepDelay'] + AvgDelayWeek['Avg_ArrDelay']\n",
    "AvgDelayWeek"
   ]
  }
 ],
 "metadata": {
  "kernelspec": {
   "display_name": "Python 3",
   "language": "python",
   "name": "python3"
  },
  "language_info": {
   "codemirror_mode": {
    "name": "ipython",
    "version": 3
   },
   "file_extension": ".py",
   "mimetype": "text/x-python",
   "name": "python",
   "nbconvert_exporter": "python",
   "pygments_lexer": "ipython3",
   "version": "3.8.8"
  }
 },
 "nbformat": 4,
 "nbformat_minor": 5
}
