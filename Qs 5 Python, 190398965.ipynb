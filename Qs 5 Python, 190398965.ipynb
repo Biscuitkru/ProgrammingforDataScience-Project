{
 "cells": [
  {
   "cell_type": "markdown",
   "id": "20285473",
   "metadata": {},
   "source": [
    "### Q5. Use the available variables to construct a model that predicts delays."
   ]
  },
  {
   "cell_type": "code",
   "execution_count": 42,
   "id": "56db4ce2",
   "metadata": {},
   "outputs": [],
   "source": [
    "import pandas as pd\n",
    "\n",
    "seven = pd.read_csv(\"2007.csv\")"
   ]
  },
  {
   "cell_type": "code",
   "execution_count": 43,
   "id": "52cfb2d1",
   "metadata": {},
   "outputs": [],
   "source": [
    "tmp = seven['ArrDelay'] + seven['DepDelay']\n",
    "tmp = pd.DataFrame(tmp)\n",
    "tmp.columns = ['TotalDelay']\n",
    "tmp\n",
    "\n",
    "seven = pd.concat([seven, tmp], axis = 1)"
   ]
  },
  {
   "cell_type": "code",
   "execution_count": 44,
   "id": "67baa696",
   "metadata": {},
   "outputs": [],
   "source": [
    "del(tmp)"
   ]
  },
  {
   "cell_type": "code",
   "execution_count": 45,
   "id": "fbce1224",
   "metadata": {},
   "outputs": [],
   "source": [
    "DelaySet = seven[['CRSDepTime', 'CRSArrTime', 'CRSElapsedTime',\n",
    "             'Distance', 'TotalDelay']]"
   ]
  },
  {
   "cell_type": "code",
   "execution_count": 46,
   "id": "0d6228df",
   "metadata": {},
   "outputs": [],
   "source": [
    "pd.options.mode.chained_assignment = None"
   ]
  },
  {
   "cell_type": "code",
   "execution_count": 47,
   "id": "b5a2af2b",
   "metadata": {
    "scrolled": true
   },
   "outputs": [
    {
     "name": "stdout",
     "output_type": "stream",
     "text": [
      "<class 'pandas.core.frame.DataFrame'>\n",
      "Int64Index: 7275288 entries, 0 to 7453214\n",
      "Data columns (total 5 columns):\n",
      " #   Column          Dtype  \n",
      "---  ------          -----  \n",
      " 0   CRSDepTime      int64  \n",
      " 1   CRSArrTime      int64  \n",
      " 2   CRSElapsedTime  float64\n",
      " 3   Distance        int64  \n",
      " 4   TotalDelay      float64\n",
      "dtypes: float64(2), int64(3)\n",
      "memory usage: 333.0 MB\n"
     ]
    }
   ],
   "source": [
    "DelaySet.dropna(axis = 0, how = 'any', inplace = True)\n",
    "\n",
    "DelaySet.info()"
   ]
  },
  {
   "cell_type": "code",
   "execution_count": 48,
   "id": "15b1c30a",
   "metadata": {},
   "outputs": [],
   "source": [
    "import numpy as np\n",
    "from sklearn.model_selection import train_test_split, GridSearchCV      \n",
    "from sklearn.linear_model import LinearRegression\n",
    "from sklearn.metrics import mean_squared_error, r2_score, mean_absolute_error, accuracy_score"
   ]
  },
  {
   "cell_type": "markdown",
   "id": "67a3cfc3",
   "metadata": {},
   "source": [
    "### Creating train and testsets"
   ]
  },
  {
   "cell_type": "code",
   "execution_count": 49,
   "id": "220b32c7",
   "metadata": {},
   "outputs": [],
   "source": [
    "features = ['CRSDepTime','CRSArrTime','CRSElapsedTime','Distance']\n",
    "X = DelaySet[features].copy()\n",
    "y = DelaySet['TotalDelay'].copy()\n",
    "\n",
    "X_train, X_test, y_train, y_test = train_test_split(X, y, test_size=0.3, random_state=1)"
   ]
  },
  {
   "cell_type": "code",
   "execution_count": 50,
   "id": "c821321f",
   "metadata": {},
   "outputs": [
    {
     "name": "stdout",
     "output_type": "stream",
     "text": [
      "[ 0.01520132  0.00983827  0.14675632 -0.0170109 ] -19.77042512266357\n"
     ]
    }
   ],
   "source": [
    "lrmodel = LinearRegression().fit(X_train , y_train)\n",
    "print(lrmodel.coef_, lrmodel.intercept_)"
   ]
  },
  {
   "cell_type": "code",
   "execution_count": 51,
   "id": "a8d943c9",
   "metadata": {},
   "outputs": [
    {
     "name": "stdout",
     "output_type": "stream",
     "text": [
      "73.21979111318788\n"
     ]
    }
   ],
   "source": [
    "## Linear regression model prediction\n",
    "y_lrpredict = lrmodel.predict(X_test)\n",
    "\n",
    "mse = mean_squared_error(y_test, y_lrpredict)\n",
    "rmse = np.sqrt(mse)\n",
    "print(rmse)\n",
    "\n",
    "## RMSE of 73.21979111318788\n",
    "## Can be further improved via Ridge/Lasso"
   ]
  },
  {
   "cell_type": "markdown",
   "id": "7d7de80d",
   "metadata": {},
   "source": [
    "### Ridge regression"
   ]
  },
  {
   "cell_type": "code",
   "execution_count": 52,
   "id": "b7d4b6e9",
   "metadata": {},
   "outputs": [],
   "source": [
    "from sklearn.linear_model import Ridge\n",
    "from sklearn.model_selection import KFold"
   ]
  },
  {
   "cell_type": "code",
   "execution_count": 53,
   "id": "512fe3b1",
   "metadata": {},
   "outputs": [
    {
     "name": "stdout",
     "output_type": "stream",
     "text": [
      "Fitting 5 folds for each of 45 candidates, totalling 225 fits\n"
     ]
    },
    {
     "data": {
      "text/plain": [
       "GridSearchCV(cv=KFold(n_splits=5, random_state=42, shuffle=True),\n",
       "             estimator=Ridge(),\n",
       "             param_grid={'alpha': array([ 0.1,  0.2,  0.3,  0.4,  0.5,  0.6,  0.7,  0.8,  0.9,  1. ,  1.1,\n",
       "        1.2,  1.3,  1.4,  1.5,  1.6,  1.7,  1.8,  1.9,  2. ,  2.5,  3. ,\n",
       "        3.5,  4. ,  4.5,  5. ,  6. ,  7. ,  8. ,  9. , 10. , 11. , 12. ,\n",
       "       13. , 14. , 15. , 16. , 17. , 18. , 19. , 20. , 21. , 22. , 23. ,\n",
       "       24. ])},\n",
       "             return_train_score=True, scoring='r2', verbose=1)"
      ]
     },
     "execution_count": 53,
     "metadata": {},
     "output_type": "execute_result"
    }
   ],
   "source": [
    "## Finding the optimal value of alpha for ridge regression\n",
    "## 3mins\n",
    "folds = KFold(n_splits=5, shuffle = True, random_state = 42)\n",
    "parameters = {'alpha': np.concatenate((np.arange(0.1,2,0.1), np.arange(2, 5, 0.5), np.arange(5, 25, 1)))}\n",
    "## Tuning parameter\n",
    "\n",
    "ridgemod = Ridge()\n",
    "\n",
    "model_cv = GridSearchCV(estimator=ridgemod, param_grid=parameters, scoring = 'r2', cv=folds, return_train_score=True, verbose = 1)\n",
    "model_cv.fit(X_train,y_train) "
   ]
  },
  {
   "cell_type": "code",
   "execution_count": 54,
   "id": "2088032f",
   "metadata": {},
   "outputs": [
    {
     "data": {
      "text/plain": [
       "{'alpha': 24.0}"
      ]
     },
     "execution_count": 54,
     "metadata": {},
     "output_type": "execute_result"
    }
   ],
   "source": [
    "model_cv.best_params_"
   ]
  },
  {
   "cell_type": "code",
   "execution_count": 55,
   "id": "b67d947e",
   "metadata": {},
   "outputs": [
    {
     "name": "stdout",
     "output_type": "stream",
     "text": [
      "73.21979111319159\n"
     ]
    }
   ],
   "source": [
    "## Ridge regression\n",
    "ridge = Ridge(24.0)\n",
    "ridge.fit(X_train, y_train)\n",
    "\n",
    "## Prediction\n",
    "ridge_pred = ridge.predict(X_test)\n",
    "RMSE= np.sqrt(mean_squared_error(y_test, ridge_pred))\n",
    "print(RMSE)\n",
    "\n",
    "## Rmse is 73.21979111319159"
   ]
  },
  {
   "cell_type": "code",
   "execution_count": 56,
   "id": "58c1071a",
   "metadata": {},
   "outputs": [
    {
     "name": "stdout",
     "output_type": "stream",
     "text": [
      "Min = -32.82\n",
      "Mean = 21.56\n",
      "Median = 21.35\n",
      "Max = 63.16\n",
      "[ 0.01520132  0.00983827  0.14675631 -0.0170109 ]\n",
      "First 5 ridge model predictions are [41.03114549  7.5113761  19.1485127  27.13670824 15.25323688]\n"
     ]
    }
   ],
   "source": [
    "## Min, mean, median, max for the ridge predictions\n",
    "min = np.amin(ridge_pred)\n",
    "mean = np.mean(ridge_pred)\n",
    "median = np.median(ridge_pred)\n",
    "max = np.amax(ridge_pred)\n",
    "\n",
    "## 2 Decimal places\n",
    "print(\"Min =\", round(min, 2))\n",
    "print(\"Mean =\", round(mean, 2))\n",
    "print(\"Median =\", round(median, 2))\n",
    "print(\"Max =\", round(max, 2))\n",
    "\n",
    "## Variables are CRSDepTime, CRSArrTime, RSElapsedTime, Distance\n",
    "print(ridge.coef_)\n",
    "\n",
    "## First 5 predictions for TotalDelay\n",
    "print(\"First 5 ridge model predictions are\",ridge_pred[:5])"
   ]
  },
  {
   "cell_type": "markdown",
   "id": "fc58e861",
   "metadata": {},
   "source": [
    "### Lasso Regression"
   ]
  },
  {
   "cell_type": "code",
   "execution_count": 57,
   "id": "dc05c1f1",
   "metadata": {},
   "outputs": [],
   "source": [
    "from sklearn.linear_model import Lasso\n",
    "from sklearn.model_selection import GridSearchCV, KFold, cross_val_score"
   ]
  },
  {
   "cell_type": "code",
   "execution_count": 58,
   "id": "dd9c2d3e",
   "metadata": {},
   "outputs": [
    {
     "name": "stdout",
     "output_type": "stream",
     "text": [
      "Fitting 5 folds for each of 6 candidates, totalling 30 fits\n"
     ]
    },
    {
     "data": {
      "text/plain": [
       "GridSearchCV(cv=KFold(n_splits=5, random_state=42, shuffle=True),\n",
       "             estimator=Lasso(),\n",
       "             param_grid={'alpha': array([0.1, 0.5, 0.9, 1.3, 1.7, 2.1])},\n",
       "             return_train_score=True, scoring='r2', verbose=1)"
      ]
     },
     "execution_count": 58,
     "metadata": {},
     "output_type": "execute_result"
    }
   ],
   "source": [
    "## Lasso regression\n",
    "## Parameters are changed to allow for faster computation where it is likely that the best alpha for lasso would be a low one\n",
    "## 4mins\n",
    "parameters = {'alpha': ((np.arange(0.1,2.5,0.4)))}\n",
    "lassomod = Lasso()\n",
    "model_cv = GridSearchCV(estimator=lassomod, param_grid=parameters, scoring='r2',cv=folds,return_train_score=True,verbose = 1)\n",
    "model_cv.fit(X_train,y_train)"
   ]
  },
  {
   "cell_type": "code",
   "execution_count": 59,
   "id": "41737293",
   "metadata": {},
   "outputs": [
    {
     "data": {
      "text/plain": [
       "{'alpha': 0.1}"
      ]
     },
     "execution_count": 59,
     "metadata": {},
     "output_type": "execute_result"
    }
   ],
   "source": [
    "model_cv.best_params_"
   ]
  },
  {
   "cell_type": "code",
   "execution_count": 60,
   "id": "3effa81d",
   "metadata": {},
   "outputs": [
    {
     "name": "stdout",
     "output_type": "stream",
     "text": [
      "73.21979207860282\n"
     ]
    }
   ],
   "source": [
    "## Lasso regression\n",
    "lasso = Lasso(0.1)\n",
    "lasso.fit(X_train, y_train)\n",
    "\n",
    "## Prediction\n",
    "lasso_pred = lasso.predict(X_test)\n",
    "RMSE = np.sqrt(mean_squared_error(y_test, lasso_pred))\n",
    "print(RMSE)\n",
    "\n",
    "## Lasso RMSE is 73.21979 207860282\n",
    "## Ridge RMSE is 73.21979 111319159\n",
    "## Linear model has RMSE of 73.21979 111318788\n",
    "## Ridge rmse is lower\n",
    "## Linear model's RMSE is lower than lasso/ridge in python\n"
   ]
  },
  {
   "cell_type": "code",
   "execution_count": 61,
   "id": "4440989d",
   "metadata": {
    "scrolled": true
   },
   "outputs": [
    {
     "name": "stdout",
     "output_type": "stream",
     "text": [
      "Min = -32.74\n",
      "Mean = 21.56\n",
      "Median = 21.35\n",
      "Max = 63.08\n",
      "[ 0.01520057  0.0098388   0.14638221 -0.01696526]\n",
      "First 5 lasso model predictions are [41.03353203  7.51338374 19.16003051 27.12935137 15.24842162]\n"
     ]
    }
   ],
   "source": [
    "## Min, mean, median, max for the ridge predictions\n",
    "min = np.amin(lasso_pred)\n",
    "mean = np.mean(lasso_pred)\n",
    "median = np.median(lasso_pred)\n",
    "max = np.amax(lasso_pred)\n",
    "\n",
    "## 2 Decimal places\n",
    "print(\"Min =\", round(min, 2))\n",
    "print(\"Mean =\", round(mean, 2))\n",
    "print(\"Median =\", round(median, 2))\n",
    "print(\"Max =\", round(max, 2))\n",
    "\n",
    "## Variables are CRSDepTime, CRSArrTime, RSElapsedTime, Distance\n",
    "print(lasso.coef_)\n",
    "\n",
    "## First 5 predictions for TotalDelay\n",
    "print(\"First 5 lasso model predictions are\",lasso_pred[:5])"
   ]
  },
  {
   "cell_type": "markdown",
   "id": "6ccb8859",
   "metadata": {},
   "source": [
    "### Logistic Regression"
   ]
  },
  {
   "cell_type": "code",
   "execution_count": 62,
   "id": "62c69086",
   "metadata": {},
   "outputs": [],
   "source": [
    "DelaySetL = DelaySet\n",
    "\n",
    "DelaySetL['TotalDelay'] = np.where( DelaySetL.TotalDelay > 10, 1, 0)"
   ]
  },
  {
   "cell_type": "code",
   "execution_count": 63,
   "id": "ddb6ae12",
   "metadata": {},
   "outputs": [],
   "source": [
    "features = ['CRSDepTime','CRSArrTime','CRSElapsedTime','Distance']\n",
    "X = DelaySetL[features].copy()\n",
    "y = DelaySetL['TotalDelay'].copy()\n",
    "\n",
    "X_train, X_test, y_train, y_test = train_test_split(X, y, test_size=0.3, random_state=1)"
   ]
  },
  {
   "cell_type": "code",
   "execution_count": 64,
   "id": "eafae346",
   "metadata": {},
   "outputs": [],
   "source": [
    "from sklearn.datasets import make_classification\n",
    "from sklearn.linear_model import LogisticRegression\n",
    "from sklearn.metrics import confusion_matrix"
   ]
  },
  {
   "cell_type": "code",
   "execution_count": 65,
   "id": "3013165d",
   "metadata": {},
   "outputs": [],
   "source": [
    "lr = LogisticRegression()"
   ]
  },
  {
   "cell_type": "code",
   "execution_count": 66,
   "id": "1e719731",
   "metadata": {},
   "outputs": [
    {
     "data": {
      "text/plain": [
       "LogisticRegression()"
      ]
     },
     "execution_count": 66,
     "metadata": {},
     "output_type": "execute_result"
    }
   ],
   "source": [
    "## Logistic Regression\n",
    "lr.fit(X_train, y_train)"
   ]
  },
  {
   "cell_type": "code",
   "execution_count": 67,
   "id": "981897b2",
   "metadata": {},
   "outputs": [
    {
     "name": "stdout",
     "output_type": "stream",
     "text": [
      "[[ 0.0005679   0.00034084  0.00334171 -0.00027721]]\n",
      "[-2.16966987]\n"
     ]
    }
   ],
   "source": [
    "## Coefficient and Intercept of Logistic Regression\n",
    "print(lr.coef_)\n",
    "print(lr.intercept_)"
   ]
  },
  {
   "cell_type": "code",
   "execution_count": 68,
   "id": "1f83823d",
   "metadata": {},
   "outputs": [],
   "source": [
    "## Logistic Regression Predictions\n",
    "Delay_Pred = lr.predict(X_test)"
   ]
  },
  {
   "cell_type": "code",
   "execution_count": 69,
   "id": "01e5b38c",
   "metadata": {},
   "outputs": [
    {
     "data": {
      "text/plain": [
       "array([[1390452,   46146],\n",
       "       [ 705439,   40550]], dtype=int64)"
      ]
     },
     "execution_count": 69,
     "metadata": {},
     "output_type": "execute_result"
    }
   ],
   "source": [
    "## Confusion Matrix\n",
    "confusion_matrix(y_test, Delay_Pred)"
   ]
  },
  {
   "cell_type": "code",
   "execution_count": 70,
   "id": "de8014b4",
   "metadata": {},
   "outputs": [],
   "source": [
    "## (1390452 + 40550) / 2182587\n",
    "## = 0.655(3s.f) \n",
    "## 65.5% accurancy"
   ]
  }
 ],
 "metadata": {
  "kernelspec": {
   "display_name": "Python 3",
   "language": "python",
   "name": "python3"
  },
  "language_info": {
   "codemirror_mode": {
    "name": "ipython",
    "version": 3
   },
   "file_extension": ".py",
   "mimetype": "text/x-python",
   "name": "python",
   "nbconvert_exporter": "python",
   "pygments_lexer": "ipython3",
   "version": "3.8.8"
  }
 },
 "nbformat": 4,
 "nbformat_minor": 5
}
